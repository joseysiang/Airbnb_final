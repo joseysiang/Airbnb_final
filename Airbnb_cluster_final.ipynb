{
 "cells": [
  {
   "cell_type": "markdown",
   "metadata": {},
   "source": [
    "### Airbnb user segmentation\n",
    "#### airbnb客户聚类分群\n",
    "\n",
    "- Airbnb爱彼迎是全球民宿短租公寓预定平台,全球700万特色民宿、短租、酒店、公寓、客栈覆盖191个国家和地区短租民宿房源。它拥有广泛的用户出行场景数据，通过这些数据，锁定潜在的目标客群并制定相应的营销策略是Airbnb业务发展的基石。\n",
    "\n",
    "- 要分析的问题：应用聚类方法来分析airbnb用户群体的核心特征。\n",
    "\n",
    "- 数据表的主要字段：  \n",
    "    id：用户id  \n",
    "    date_account_created：用户创建日期  \n",
    "    date_first_booking：第一次订房日期  \n",
    "    gender：性别  \n",
    "    age：年龄  \n",
    "    married：已婚  \n",
    "    children：小孩数量  \n",
    "    android：曾自爱安卓app中预定  \n",
    "    mowed：曾在手机移动网页预定  \n",
    "    wed：曾在电脑网页版预定  \n",
    "    ios：曾在ios app预定  \n",
    "    language_en：使用英文语言  \n",
    "    language_zh：使用中文语言  \n",
    "    country_us：目的地是美国  \n",
    "    country_eu：目的地是欧洲国家  \n"
   ]
  },
  {
   "cell_type": "code",
   "execution_count": 60,
   "metadata": {
    "ExecuteTime": {
     "end_time": "2020-12-03T03:17:18.225529Z",
     "start_time": "2020-12-03T03:17:18.130542Z"
    }
   },
   "outputs": [
    {
     "data": {
      "text/html": [
       "<div>\n",
       "<style scoped>\n",
       "    .dataframe tbody tr th:only-of-type {\n",
       "        vertical-align: middle;\n",
       "    }\n",
       "\n",
       "    .dataframe tbody tr th {\n",
       "        vertical-align: top;\n",
       "    }\n",
       "\n",
       "    .dataframe thead th {\n",
       "        text-align: right;\n",
       "    }\n",
       "</style>\n",
       "<table border=\"1\" class=\"dataframe\">\n",
       "  <thead>\n",
       "    <tr style=\"text-align: right;\">\n",
       "      <th></th>\n",
       "      <th>age</th>\n",
       "      <th>date_account_created</th>\n",
       "      <th>date_first_booking</th>\n",
       "      <th>gender</th>\n",
       "      <th>Language_EN</th>\n",
       "      <th>Language_ZH</th>\n",
       "      <th>Country_US</th>\n",
       "      <th>Country_EUR</th>\n",
       "      <th>android</th>\n",
       "      <th>moweb</th>\n",
       "      <th>web</th>\n",
       "      <th>ios</th>\n",
       "      <th>Married</th>\n",
       "      <th>Children</th>\n",
       "    </tr>\n",
       "  </thead>\n",
       "  <tbody>\n",
       "    <tr>\n",
       "      <td>0</td>\n",
       "      <td>56</td>\n",
       "      <td>9/28/2010</td>\n",
       "      <td>8/2/2010</td>\n",
       "      <td>F</td>\n",
       "      <td>1</td>\n",
       "      <td>0</td>\n",
       "      <td>1</td>\n",
       "      <td>0</td>\n",
       "      <td>1</td>\n",
       "      <td>0</td>\n",
       "      <td>1</td>\n",
       "      <td>0</td>\n",
       "      <td>1</td>\n",
       "      <td>1</td>\n",
       "    </tr>\n",
       "    <tr>\n",
       "      <td>1</td>\n",
       "      <td>42</td>\n",
       "      <td>12/5/2011</td>\n",
       "      <td>9/8/2012</td>\n",
       "      <td>F</td>\n",
       "      <td>1</td>\n",
       "      <td>0</td>\n",
       "      <td>0</td>\n",
       "      <td>0</td>\n",
       "      <td>0</td>\n",
       "      <td>1</td>\n",
       "      <td>1</td>\n",
       "      <td>0</td>\n",
       "      <td>0</td>\n",
       "      <td>1</td>\n",
       "    </tr>\n",
       "    <tr>\n",
       "      <td>2</td>\n",
       "      <td>41</td>\n",
       "      <td>9/14/2010</td>\n",
       "      <td>2/18/2010</td>\n",
       "      <td>U</td>\n",
       "      <td>1</td>\n",
       "      <td>0</td>\n",
       "      <td>1</td>\n",
       "      <td>0</td>\n",
       "      <td>1</td>\n",
       "      <td>0</td>\n",
       "      <td>1</td>\n",
       "      <td>0</td>\n",
       "      <td>0</td>\n",
       "      <td>2</td>\n",
       "    </tr>\n",
       "    <tr>\n",
       "      <td>3</td>\n",
       "      <td>46</td>\n",
       "      <td>1/2/2010</td>\n",
       "      <td>1/5/2010</td>\n",
       "      <td>F</td>\n",
       "      <td>1</td>\n",
       "      <td>0</td>\n",
       "      <td>1</td>\n",
       "      <td>0</td>\n",
       "      <td>1</td>\n",
       "      <td>0</td>\n",
       "      <td>1</td>\n",
       "      <td>0</td>\n",
       "      <td>0</td>\n",
       "      <td>2</td>\n",
       "    </tr>\n",
       "    <tr>\n",
       "      <td>4</td>\n",
       "      <td>47</td>\n",
       "      <td>1/3/2010</td>\n",
       "      <td>1/13/2010</td>\n",
       "      <td>F</td>\n",
       "      <td>1</td>\n",
       "      <td>0</td>\n",
       "      <td>1</td>\n",
       "      <td>0</td>\n",
       "      <td>1</td>\n",
       "      <td>0</td>\n",
       "      <td>1</td>\n",
       "      <td>0</td>\n",
       "      <td>1</td>\n",
       "      <td>3</td>\n",
       "    </tr>\n",
       "  </tbody>\n",
       "</table>\n",
       "</div>"
      ],
      "text/plain": [
       "   age date_account_created date_first_booking gender  Language_EN  \\\n",
       "0   56            9/28/2010           8/2/2010      F            1   \n",
       "1   42            12/5/2011           9/8/2012      F            1   \n",
       "2   41            9/14/2010          2/18/2010      U            1   \n",
       "3   46             1/2/2010           1/5/2010      F            1   \n",
       "4   47             1/3/2010          1/13/2010      F            1   \n",
       "\n",
       "   Language_ZH  Country_US  Country_EUR  android  moweb  web  ios  Married  \\\n",
       "0            0           1            0        1      0    1    0        1   \n",
       "1            0           0            0        0      1    1    0        0   \n",
       "2            0           1            0        1      0    1    0        0   \n",
       "3            0           1            0        1      0    1    0        0   \n",
       "4            0           1            0        1      0    1    0        1   \n",
       "\n",
       "   Children  \n",
       "0         1  \n",
       "1         1  \n",
       "2         2  \n",
       "3         2  \n",
       "4         3  "
      ]
     },
     "execution_count": 60,
     "metadata": {},
     "output_type": "execute_result"
    }
   ],
   "source": [
    "import pandas as pd\n",
    "import numpy as np\n",
    "import matplotlib.pyplot as plt\n",
    "get_ipython().run_line_magic('matplotlib', 'inline')\n",
    "\n",
    "airbnb = pd.read_csv('airbnb_cluster.csv')\n",
    "airbnb.head()"
   ]
  },
  {
   "cell_type": "code",
   "execution_count": 61,
   "metadata": {
    "ExecuteTime": {
     "end_time": "2020-12-03T03:17:18.241449Z",
     "start_time": "2020-12-03T03:17:18.227100Z"
    }
   },
   "outputs": [
    {
     "name": "stdout",
     "output_type": "stream",
     "text": [
      "<class 'pandas.core.frame.DataFrame'>\n",
      "RangeIndex: 67936 entries, 0 to 67935\n",
      "Data columns (total 14 columns):\n",
      "age                     67936 non-null int64\n",
      "date_account_created    67936 non-null object\n",
      "date_first_booking      67936 non-null object\n",
      "gender                  67936 non-null object\n",
      "Language_EN             67936 non-null int64\n",
      "Language_ZH             67936 non-null int64\n",
      "Country_US              67936 non-null int64\n",
      "Country_EUR             67936 non-null int64\n",
      "android                 67936 non-null int64\n",
      "moweb                   67936 non-null int64\n",
      "web                     67936 non-null int64\n",
      "ios                     67936 non-null int64\n",
      "Married                 67936 non-null int64\n",
      "Children                67936 non-null int64\n",
      "dtypes: int64(11), object(3)\n",
      "memory usage: 7.3+ MB\n"
     ]
    }
   ],
   "source": [
    "airbnb.info()"
   ]
  },
  {
   "cell_type": "markdown",
   "metadata": {},
   "source": [
    "#### Data preprocess\n",
    "1. check value range  \n",
    "first, take a look of overall numeric columns, finding age has some outliers. considering we may only target person from 18 to 80, we will constraint age in this range"
   ]
  },
  {
   "cell_type": "code",
   "execution_count": 62,
   "metadata": {
    "ExecuteTime": {
     "end_time": "2020-12-03T03:17:18.292925Z",
     "start_time": "2020-12-03T03:17:18.244480Z"
    }
   },
   "outputs": [
    {
     "name": "stdout",
     "output_type": "stream",
     "text": [
      "                age   Language_EN   Language_ZH    Country_US   Country_EUR  \\\n",
      "count  67936.000000  67936.000000  67936.000000  67936.000000  67936.000000   \n",
      "mean      47.874249      0.974476      0.005947      0.713907      0.159091   \n",
      "std      146.090906      0.157711      0.076886      0.451937      0.365764   \n",
      "min        2.000000      0.000000      0.000000      0.000000      0.000000   \n",
      "25%       28.000000      1.000000      0.000000      0.000000      0.000000   \n",
      "50%       33.000000      1.000000      0.000000      1.000000      0.000000   \n",
      "75%       42.000000      1.000000      0.000000      1.000000      0.000000   \n",
      "max     2014.000000      1.000000      1.000000      1.000000      1.000000   \n",
      "\n",
      "            android         moweb           web           ios       Married  \\\n",
      "count  67936.000000  67936.000000  67936.000000  67936.000000  67936.000000   \n",
      "mean       0.658355      0.340423      0.895828      0.067534      0.790155   \n",
      "std        0.474265      0.473855      0.305485      0.250947      0.407201   \n",
      "min        0.000000      0.000000      0.000000      0.000000      0.000000   \n",
      "25%        0.000000      0.000000      1.000000      0.000000      1.000000   \n",
      "50%        1.000000      0.000000      1.000000      0.000000      1.000000   \n",
      "75%        1.000000      1.000000      1.000000      0.000000      1.000000   \n",
      "max        1.000000      1.000000      1.000000      1.000000      1.000000   \n",
      "\n",
      "           Children  \n",
      "count  67936.000000  \n",
      "mean       1.536696  \n",
      "std        0.836273  \n",
      "min        0.000000  \n",
      "25%        1.000000  \n",
      "50%        1.000000  \n",
      "75%        2.000000  \n",
      "max        3.000000  \n",
      "number of age out of range:1441\n"
     ]
    }
   ],
   "source": [
    "# the max value of age is not reasonable, we will take a closer look \n",
    "print(airbnb.describe())\n",
    "\n",
    "# value of age\n",
    "print('number of age out of range:%d'%np.sum(airbnb['age']>80))"
   ]
  },
  {
   "cell_type": "code",
   "execution_count": 63,
   "metadata": {
    "ExecuteTime": {
     "end_time": "2020-12-03T03:17:18.487271Z",
     "start_time": "2020-12-03T03:17:18.294896Z"
    }
   },
   "outputs": [
    {
     "data": {
      "text/plain": [
       "(array([1125., 1288., 2974., 5083., 6617., 7018., 6967., 6113., 5052.,\n",
       "        3918., 3042., 2515., 2131., 1999., 1490., 1976., 1112.,  972.,\n",
       "         956.,  826.,  708.,  618.,  550.,  453.,  360.,  198.,  186.,\n",
       "         103.,   61.,   62.]),\n",
       " array([18.        , 20.06666667, 22.13333333, 24.2       , 26.26666667,\n",
       "        28.33333333, 30.4       , 32.46666667, 34.53333333, 36.6       ,\n",
       "        38.66666667, 40.73333333, 42.8       , 44.86666667, 46.93333333,\n",
       "        49.        , 51.06666667, 53.13333333, 55.2       , 57.26666667,\n",
       "        59.33333333, 61.4       , 63.46666667, 65.53333333, 67.6       ,\n",
       "        69.66666667, 71.73333333, 73.8       , 75.86666667, 77.93333333,\n",
       "        80.        ]),\n",
       " <a list of 30 Patch objects>)"
      ]
     },
     "execution_count": 63,
     "metadata": {},
     "output_type": "execute_result"
    },
    {
     "data": {
      "image/png": "[encoded data removed]",
      "text/plain": [
       "<Figure size 432x288 with 1 Axes>"
      ]
     },
     "metadata": {
      "needs_background": "light"
     },
     "output_type": "display_data"
    }
   ],
   "source": [
    "airbnb = airbnb[(airbnb['age']>=18)&(airbnb['age']<=80)].copy()\n",
    "plt.hist(airbnb['age'], bins=30)"
   ]
  },
  {
   "cell_type": "markdown",
   "metadata": {},
   "source": [
    "2. Process datetime  \n",
    "date_account_created and date_first_booking"
   ]
  },
  {
   "cell_type": "code",
   "execution_count": 64,
   "metadata": {
    "ExecuteTime": {
     "end_time": "2020-12-03T03:17:18.692649Z",
     "start_time": "2020-12-03T03:17:18.489062Z"
    }
   },
   "outputs": [
    {
     "data": {
      "text/plain": [
       "count                   66473\n",
       "unique                   1944\n",
       "top       2014-05-22 00:00:00\n",
       "freq                      190\n",
       "first     2010-01-04 00:00:00\n",
       "last      2015-06-28 00:00:00\n",
       "Name: date_first_booking, dtype: object"
      ]
     },
     "execution_count": 64,
     "metadata": {},
     "output_type": "execute_result"
    }
   ],
   "source": [
    "# convert object to datetime\n",
    "airbnb['date_account_created'] = pd.to_datetime(airbnb['date_account_created'])\n",
    "airbnb['date_first_booking'] = pd.to_datetime(airbnb['date_first_booking'])\n",
    "\n",
    "airbnb['date_first_booking'].describe()"
   ]
  },
  {
   "cell_type": "code",
   "execution_count": 65,
   "metadata": {
    "ExecuteTime": {
     "end_time": "2020-12-03T03:17:19.349165Z",
     "start_time": "2020-12-03T03:17:18.694383Z"
    },
    "scrolled": true
   },
   "outputs": [
    {
     "data": {
      "text/plain": [
       "count    66473.000000\n",
       "mean        50.695034\n",
       "std         92.591874\n",
       "min       -349.000000\n",
       "25%          1.000000\n",
       "50%          4.000000\n",
       "75%         45.000000\n",
       "max        365.000000\n",
       "Name: datediff, dtype: float64"
      ]
     },
     "execution_count": 65,
     "metadata": {},
     "output_type": "execute_result"
    }
   ],
   "source": [
    "# time difference\n",
    "airbnb['datediff'] = (airbnb['date_first_booking']-airbnb['date_account_created'])\n",
    "airbnb['datediff'] = airbnb['datediff'].apply(lambda x:x.days)\n",
    "\n",
    "airbnb['datediff'].describe()"
   ]
  },
  {
   "cell_type": "markdown",
   "metadata": {},
   "source": [
    "3. Prepare dataset for clustering"
   ]
  },
  {
   "cell_type": "code",
   "execution_count": 66,
   "metadata": {
    "ExecuteTime": {
     "end_time": "2020-12-03T03:17:19.386773Z",
     "start_time": "2020-12-03T03:17:19.351391Z"
    }
   },
   "outputs": [
    {
     "name": "stdout",
     "output_type": "stream",
     "text": [
      "<class 'pandas.core.frame.DataFrame'>\n",
      "Int64Index: 66473 entries, 0 to 67935\n",
      "Data columns (total 14 columns):\n",
      "age            66473 non-null int64\n",
      "Language_EN    66473 non-null int64\n",
      "Language_ZH    66473 non-null int64\n",
      "Country_US     66473 non-null int64\n",
      "Country_EUR    66473 non-null int64\n",
      "android        66473 non-null int64\n",
      "moweb          66473 non-null int64\n",
      "web            66473 non-null int64\n",
      "ios            66473 non-null int64\n",
      "Married        66473 non-null int64\n",
      "Children       66473 non-null int64\n",
      "datediff       66473 non-null int64\n",
      "gender_F       66473 non-null uint8\n",
      "gender_M       66473 non-null uint8\n",
      "dtypes: int64(12), uint8(2)\n",
      "memory usage: 6.7 MB\n"
     ]
    }
   ],
   "source": [
    "airbnb = pd.get_dummies(airbnb)\n",
    "airbnb = airbnb.drop(['date_account_created','date_first_booking','gender_U'],axis=1)\n",
    "airbnb.info()"
   ]
  },
  {
   "cell_type": "markdown",
   "metadata": {},
   "source": [
    "#### Feature selection - correlation matrix\n",
    "According to correlation matrix plot below, we can identify some features have high (negative) correlation with some other features, which, in the end, will give those variables more weights when calculate distances. So, I will remove one of those variable in each pair with high correlation and it turns out that Country_US, Andorid, web and gender_F will be removed. "
   ]
  },
  {
   "cell_type": "code",
   "execution_count": 67,
   "metadata": {
    "ExecuteTime": {
     "end_time": "2020-12-03T03:17:20.319724Z",
     "start_time": "2020-12-03T03:17:19.390185Z"
    }
   },
   "outputs": [
    {
     "data": {
      "text/plain": [
       "Text(0.5, 1, 'Correlation Matrix')"
      ]
     },
     "execution_count": 67,
     "metadata": {},
     "output_type": "execute_result"
    },
    {
     "data": {
      "image/png": "[encoded data removed]",
      "text/plain": [
       "<Figure size 1152x432 with 2 Axes>"
      ]
     },
     "metadata": {
      "needs_background": "light"
     },
     "output_type": "display_data"
    }
   ],
   "source": [
    "import seaborn as sns\n",
    "\n",
    "plt.figure(figsize=(16, 6))\n",
    "heatmap = sns.heatmap(airbnb.corr(), vmin=-1, vmax=1, annot=True)\n",
    "heatmap.set_title('Correlation Matrix', fontdict={'fontsize':10}, pad=14)"
   ]
  },
  {
   "cell_type": "code",
   "execution_count": 68,
   "metadata": {
    "ExecuteTime": {
     "end_time": "2020-12-03T03:17:20.335100Z",
     "start_time": "2020-12-03T03:17:20.323765Z"
    }
   },
   "outputs": [
    {
     "name": "stdout",
     "output_type": "stream",
     "text": [
      "<class 'pandas.core.frame.DataFrame'>\n",
      "Int64Index: 66473 entries, 0 to 67935\n",
      "Data columns (total 10 columns):\n",
      "age            66473 non-null int64\n",
      "Language_EN    66473 non-null int64\n",
      "Language_ZH    66473 non-null int64\n",
      "Country_EUR    66473 non-null int64\n",
      "moweb          66473 non-null int64\n",
      "ios            66473 non-null int64\n",
      "Married        66473 non-null int64\n",
      "Children       66473 non-null int64\n",
      "datediff       66473 non-null int64\n",
      "gender_M       66473 non-null uint8\n",
      "dtypes: int64(9), uint8(1)\n",
      "memory usage: 5.1 MB\n"
     ]
    }
   ],
   "source": [
    "# remove high-correlated features\n",
    "airbnb = airbnb.drop([\"Country_US\", 'android', 'web','gender_F'],axis=1)\n",
    "airbnb.info()"
   ]
  },
  {
   "cell_type": "markdown",
   "metadata": {},
   "source": [
    "#### Cluster modeling\n",
    "Training a dataset with over 64k observations is such a time-consuming work, so in this practice, I only split it for once.  "
   ]
  },
  {
   "cell_type": "code",
   "execution_count": 69,
   "metadata": {
    "ExecuteTime": {
     "end_time": "2020-12-03T03:17:20.388048Z",
     "start_time": "2020-12-03T03:17:20.336729Z"
    }
   },
   "outputs": [
    {
     "name": "stdout",
     "output_type": "stream",
     "text": [
      "train set shape: (39883, 10)\n",
      "valid set shape: (13295, 10)\n",
      "test set shape: (13295, 10)\n"
     ]
    },
    {
     "data": {
      "text/html": [
       "<div>\n",
       "<style scoped>\n",
       "    .dataframe tbody tr th:only-of-type {\n",
       "        vertical-align: middle;\n",
       "    }\n",
       "\n",
       "    .dataframe tbody tr th {\n",
       "        vertical-align: top;\n",
       "    }\n",
       "\n",
       "    .dataframe thead th {\n",
       "        text-align: right;\n",
       "    }\n",
       "</style>\n",
       "<table border=\"1\" class=\"dataframe\">\n",
       "  <thead>\n",
       "    <tr style=\"text-align: right;\">\n",
       "      <th></th>\n",
       "      <th>age</th>\n",
       "      <th>Language_EN</th>\n",
       "      <th>Language_ZH</th>\n",
       "      <th>Country_EUR</th>\n",
       "      <th>moweb</th>\n",
       "      <th>ios</th>\n",
       "      <th>Married</th>\n",
       "      <th>Children</th>\n",
       "      <th>datediff</th>\n",
       "      <th>gender_M</th>\n",
       "    </tr>\n",
       "  </thead>\n",
       "  <tbody>\n",
       "    <tr>\n",
       "      <td>0</td>\n",
       "      <td>-0.368243</td>\n",
       "      <td>0.161843</td>\n",
       "      <td>-0.076492</td>\n",
       "      <td>-0.434999</td>\n",
       "      <td>1.381451</td>\n",
       "      <td>-0.269041</td>\n",
       "      <td>0.514550</td>\n",
       "      <td>1.745014</td>\n",
       "      <td>-0.351263</td>\n",
       "      <td>1.258610</td>\n",
       "    </tr>\n",
       "    <tr>\n",
       "      <td>1</td>\n",
       "      <td>-0.642368</td>\n",
       "      <td>0.161843</td>\n",
       "      <td>-0.076492</td>\n",
       "      <td>-0.434999</td>\n",
       "      <td>-0.723876</td>\n",
       "      <td>-0.269041</td>\n",
       "      <td>0.514550</td>\n",
       "      <td>-0.638832</td>\n",
       "      <td>-0.372940</td>\n",
       "      <td>1.258610</td>\n",
       "    </tr>\n",
       "    <tr>\n",
       "      <td>2</td>\n",
       "      <td>-0.276868</td>\n",
       "      <td>0.161843</td>\n",
       "      <td>-0.076492</td>\n",
       "      <td>2.298858</td>\n",
       "      <td>-0.723876</td>\n",
       "      <td>-0.269041</td>\n",
       "      <td>0.514550</td>\n",
       "      <td>-0.638832</td>\n",
       "      <td>1.783919</td>\n",
       "      <td>-0.794527</td>\n",
       "    </tr>\n",
       "    <tr>\n",
       "      <td>3</td>\n",
       "      <td>2.098885</td>\n",
       "      <td>0.161843</td>\n",
       "      <td>-0.076492</td>\n",
       "      <td>-0.434999</td>\n",
       "      <td>-0.723876</td>\n",
       "      <td>-0.269041</td>\n",
       "      <td>0.514550</td>\n",
       "      <td>0.553091</td>\n",
       "      <td>-0.394616</td>\n",
       "      <td>-0.794527</td>\n",
       "    </tr>\n",
       "    <tr>\n",
       "      <td>4</td>\n",
       "      <td>0.728258</td>\n",
       "      <td>0.161843</td>\n",
       "      <td>-0.076492</td>\n",
       "      <td>-0.434999</td>\n",
       "      <td>1.381451</td>\n",
       "      <td>-0.269041</td>\n",
       "      <td>-1.943445</td>\n",
       "      <td>0.553091</td>\n",
       "      <td>2.260812</td>\n",
       "      <td>-0.794527</td>\n",
       "    </tr>\n",
       "  </tbody>\n",
       "</table>\n",
       "</div>"
      ],
      "text/plain": [
       "        age  Language_EN  Language_ZH  Country_EUR     moweb       ios  \\\n",
       "0 -0.368243     0.161843    -0.076492    -0.434999  1.381451 -0.269041   \n",
       "1 -0.642368     0.161843    -0.076492    -0.434999 -0.723876 -0.269041   \n",
       "2 -0.276868     0.161843    -0.076492     2.298858 -0.723876 -0.269041   \n",
       "3  2.098885     0.161843    -0.076492    -0.434999 -0.723876 -0.269041   \n",
       "4  0.728258     0.161843    -0.076492    -0.434999  1.381451 -0.269041   \n",
       "\n",
       "    Married  Children  datediff  gender_M  \n",
       "0  0.514550  1.745014 -0.351263  1.258610  \n",
       "1  0.514550 -0.638832 -0.372940  1.258610  \n",
       "2  0.514550 -0.638832  1.783919 -0.794527  \n",
       "3  0.514550  0.553091 -0.394616 -0.794527  \n",
       "4 -1.943445  0.553091  2.260812 -0.794527  "
      ]
     },
     "execution_count": 69,
     "metadata": {},
     "output_type": "execute_result"
    }
   ],
   "source": [
    "from sklearn.preprocessing import StandardScaler\n",
    "from sklearn.decomposition import PCA\n",
    "from sklearn.model_selection import train_test_split\n",
    "\n",
    "# data spliting - 60/20/20\n",
    "train, test = train_test_split(airbnb, test_size=0.2, random_state=42) \n",
    "train, valid = train_test_split(train, test_size=0.25, random_state=42) \n",
    "# data scaling\n",
    "scaler = StandardScaler()\n",
    "train_scaled = scaler.fit_transform(train)\n",
    "valid_scaled = scaler.transform(valid)\n",
    "test_scaled = scaler.transform(test)\n",
    "\n",
    "# overview of data spliting\n",
    "print('train set shape: (%d, %d)'%(train_scaled.shape[0],train_scaled.shape[1]))\n",
    "print('valid set shape: (%d, %d)'%(valid_scaled.shape[0],valid_scaled.shape[1]))\n",
    "print('test set shape: (%d, %d)'%(test_scaled.shape[0],test_scaled.shape[1]))\n",
    "df = pd.DataFrame(train_scaled, columns=airbnb.columns)\n",
    "df.head()"
   ]
  },
  {
   "cell_type": "markdown",
   "metadata": {},
   "source": [
    "1. k-Means clustering\n"
   ]
  },
  {
   "cell_type": "code",
   "execution_count": 71,
   "metadata": {
    "ExecuteTime": {
     "end_time": "2020-12-03T03:20:40.035002Z",
     "start_time": "2020-12-03T03:17:43.261621Z"
    }
   },
   "outputs": [],
   "source": [
    "from sklearn.cluster import KMeans, AgglomerativeClustering, DBSCAN\n",
    "from sklearn.metrics.cluster import silhouette_score\n",
    "from scipy.cluster.hierarchy import dendrogram, ward\n",
    "\n",
    "s_score_train = []\n",
    "s_score_valid = []\n",
    "for k in range(2,11):\n",
    "    algo = KMeans(n_clusters=k,random_state=10)\n",
    "    clusters_train = algo.fit_predict(train_scaled)\n",
    "    clusters_valid = algo.predict(valid_scaled)\n",
    "    s_score_train.append(silhouette_score(train_scaled, clusters_train))\n",
    "    s_score_valid.append(silhouette_score(valid_scaled, clusters_valid))"
   ]
  },
  {
   "cell_type": "code",
   "execution_count": 72,
   "metadata": {
    "ExecuteTime": {
     "end_time": "2020-12-03T03:20:40.278545Z",
     "start_time": "2020-12-03T03:20:40.103313Z"
    }
   },
   "outputs": [
    {
     "data": {
      "text/plain": [
       "<matplotlib.legend.Legend at 0x7f8ec15618d0>"
      ]
     },
     "execution_count": 72,
     "metadata": {},
     "output_type": "execute_result"
    },
    {
     "data": {
      "image/png": "[encoded data removed]",
      "text/plain": [
       "<Figure size 432x288 with 1 Axes>"
      ]
     },
     "metadata": {
      "needs_background": "light"
     },
     "output_type": "display_data"
    }
   ],
   "source": [
    "#plt.plot(range(2,11), s_score_train, label=\"train silhouette score\")\n",
    "plt.plot(range(2,11), s_score_valid, label=\"validation silhouette score\")\n",
    "plt.ylabel(\"silhouette_score\")\n",
    "plt.xlabel(\"n_clusters\")\n",
    "plt.legend()"
   ]
  },
  {
   "cell_type": "code",
   "execution_count": 73,
   "metadata": {
    "ExecuteTime": {
     "end_time": "2020-12-03T03:20:42.498017Z",
     "start_time": "2020-12-03T03:20:40.323472Z"
    }
   },
   "outputs": [
    {
     "name": "stdout",
     "output_type": "stream",
     "text": [
      "0.7377414962153087\n"
     ]
    }
   ],
   "source": [
    "# cluster using test data\n",
    "algo = KMeans(n_clusters=2,random_state=10)\n",
    "clusters_train = algo.fit_predict(train_scaled)\n",
    "clusters_valid = algo.predict(valid_scaled)\n",
    "clusters_test = algo.predict(test_scaled)\n",
    "print(silhouette_score(test_scaled, clusters_test))"
   ]
  },
  {
   "cell_type": "markdown",
   "metadata": {},
   "source": [
    "2. Agglomerative clustering"
   ]
  },
  {
   "cell_type": "code",
   "execution_count": 80,
   "metadata": {
    "ExecuteTime": {
     "end_time": "2020-12-03T15:30:32.541482Z",
     "start_time": "2020-12-03T14:44:53.936741Z"
    }
   },
   "outputs": [
    {
     "ename": "KeyboardInterrupt",
     "evalue": "",
     "output_type": "error",
     "traceback": [
      "\u001b[0;31m---------------------------------------------------------------------------\u001b[0m",
      "\u001b[0;31mKeyboardInterrupt\u001b[0m                         Traceback (most recent call last)",
      "\u001b[0;32m<ipython-input-80-ae2d757c66d8>\u001b[0m in \u001b[0;36m<module>\u001b[0;34m\u001b[0m\n\u001b[1;32m      3\u001b[0m \u001b[0;32mfor\u001b[0m \u001b[0mk\u001b[0m \u001b[0;32min\u001b[0m \u001b[0mrange\u001b[0m\u001b[0;34m(\u001b[0m\u001b[0;36m2\u001b[0m\u001b[0;34m,\u001b[0m\u001b[0;36m11\u001b[0m\u001b[0;34m)\u001b[0m\u001b[0;34m:\u001b[0m\u001b[0;34m\u001b[0m\u001b[0;34m\u001b[0m\u001b[0m\n\u001b[1;32m      4\u001b[0m     \u001b[0malgo\u001b[0m \u001b[0;34m=\u001b[0m \u001b[0mAgglomerativeClustering\u001b[0m\u001b[0;34m(\u001b[0m\u001b[0mn_clusters\u001b[0m\u001b[0;34m=\u001b[0m\u001b[0mk\u001b[0m\u001b[0;34m)\u001b[0m\u001b[0;34m\u001b[0m\u001b[0;34m\u001b[0m\u001b[0m\n\u001b[0;32m----> 5\u001b[0;31m     \u001b[0mclusters_train\u001b[0m \u001b[0;34m=\u001b[0m \u001b[0malgo\u001b[0m\u001b[0;34m.\u001b[0m\u001b[0mfit_predict\u001b[0m\u001b[0;34m(\u001b[0m\u001b[0mtrain_scaled\u001b[0m\u001b[0;34m)\u001b[0m\u001b[0;34m\u001b[0m\u001b[0;34m\u001b[0m\u001b[0m\n\u001b[0m\u001b[1;32m      6\u001b[0m     \u001b[0mclusters_valid\u001b[0m \u001b[0;34m=\u001b[0m \u001b[0malgo\u001b[0m\u001b[0;34m.\u001b[0m\u001b[0mfit_predict\u001b[0m\u001b[0;34m(\u001b[0m\u001b[0mvalid_scaled\u001b[0m\u001b[0;34m)\u001b[0m\u001b[0;34m\u001b[0m\u001b[0;34m\u001b[0m\u001b[0m\n\u001b[1;32m      7\u001b[0m     \u001b[0ms_score_train\u001b[0m\u001b[0;34m.\u001b[0m\u001b[0mappend\u001b[0m\u001b[0;34m(\u001b[0m\u001b[0msilhouette_score\u001b[0m\u001b[0;34m(\u001b[0m\u001b[0mtrain_scaled\u001b[0m\u001b[0;34m,\u001b[0m \u001b[0mclusters_train\u001b[0m\u001b[0;34m)\u001b[0m\u001b[0;34m)\u001b[0m\u001b[0;34m\u001b[0m\u001b[0;34m\u001b[0m\u001b[0m\n",
      "\u001b[0;32m/opt/anaconda3/lib/python3.7/site-packages/sklearn/cluster/_agglomerative.py\u001b[0m in \u001b[0;36mfit_predict\u001b[0;34m(self, X, y)\u001b[0m\n\u001b[1;32m    923\u001b[0m             \u001b[0mCluster\u001b[0m \u001b[0mlabels\u001b[0m\u001b[0;34m.\u001b[0m\u001b[0;34m\u001b[0m\u001b[0;34m\u001b[0m\u001b[0m\n\u001b[1;32m    924\u001b[0m         \"\"\"\n\u001b[0;32m--> 925\u001b[0;31m         \u001b[0;32mreturn\u001b[0m \u001b[0msuper\u001b[0m\u001b[0;34m(\u001b[0m\u001b[0;34m)\u001b[0m\u001b[0;34m.\u001b[0m\u001b[0mfit_predict\u001b[0m\u001b[0;34m(\u001b[0m\u001b[0mX\u001b[0m\u001b[0;34m,\u001b[0m \u001b[0my\u001b[0m\u001b[0;34m)\u001b[0m\u001b[0;34m\u001b[0m\u001b[0;34m\u001b[0m\u001b[0m\n\u001b[0m\u001b[1;32m    926\u001b[0m \u001b[0;34m\u001b[0m\u001b[0m\n\u001b[1;32m    927\u001b[0m \u001b[0;34m\u001b[0m\u001b[0m\n",
      "\u001b[0;32m/opt/anaconda3/lib/python3.7/site-packages/sklearn/base.py\u001b[0m in \u001b[0;36mfit_predict\u001b[0;34m(self, X, y)\u001b[0m\n\u001b[1;32m    579\u001b[0m         \u001b[0;31m# non-optimized default implementation; override when a better\u001b[0m\u001b[0;34m\u001b[0m\u001b[0;34m\u001b[0m\u001b[0;34m\u001b[0m\u001b[0m\n\u001b[1;32m    580\u001b[0m         \u001b[0;31m# method is possible for a given clustering algorithm\u001b[0m\u001b[0;34m\u001b[0m\u001b[0;34m\u001b[0m\u001b[0;34m\u001b[0m\u001b[0m\n\u001b[0;32m--> 581\u001b[0;31m         \u001b[0mself\u001b[0m\u001b[0;34m.\u001b[0m\u001b[0mfit\u001b[0m\u001b[0;34m(\u001b[0m\u001b[0mX\u001b[0m\u001b[0;34m)\u001b[0m\u001b[0;34m\u001b[0m\u001b[0;34m\u001b[0m\u001b[0m\n\u001b[0m\u001b[1;32m    582\u001b[0m         \u001b[0;32mreturn\u001b[0m \u001b[0mself\u001b[0m\u001b[0;34m.\u001b[0m\u001b[0mlabels_\u001b[0m\u001b[0;34m\u001b[0m\u001b[0;34m\u001b[0m\u001b[0m\n\u001b[1;32m    583\u001b[0m \u001b[0;34m\u001b[0m\u001b[0m\n",
      "\u001b[0;32m/opt/anaconda3/lib/python3.7/site-packages/sklearn/cluster/_agglomerative.py\u001b[0m in \u001b[0;36mfit\u001b[0;34m(self, X, y)\u001b[0m\n\u001b[1;32m    880\u001b[0m                                          \u001b[0mn_clusters\u001b[0m\u001b[0;34m=\u001b[0m\u001b[0mn_clusters\u001b[0m\u001b[0;34m,\u001b[0m\u001b[0;34m\u001b[0m\u001b[0;34m\u001b[0m\u001b[0m\n\u001b[1;32m    881\u001b[0m                                          \u001b[0mreturn_distance\u001b[0m\u001b[0;34m=\u001b[0m\u001b[0mreturn_distance\u001b[0m\u001b[0;34m,\u001b[0m\u001b[0;34m\u001b[0m\u001b[0;34m\u001b[0m\u001b[0m\n\u001b[0;32m--> 882\u001b[0;31m                                          **kwargs)\n\u001b[0m\u001b[1;32m    883\u001b[0m         (self.children_,\n\u001b[1;32m    884\u001b[0m          \u001b[0mself\u001b[0m\u001b[0;34m.\u001b[0m\u001b[0mn_connected_components_\u001b[0m\u001b[0;34m,\u001b[0m\u001b[0;34m\u001b[0m\u001b[0;34m\u001b[0m\u001b[0m\n",
      "\u001b[0;32m/opt/anaconda3/lib/python3.7/site-packages/joblib/memory.py\u001b[0m in \u001b[0;36m__call__\u001b[0;34m(self, *args, **kwargs)\u001b[0m\n\u001b[1;32m    353\u001b[0m \u001b[0;34m\u001b[0m\u001b[0m\n\u001b[1;32m    354\u001b[0m     \u001b[0;32mdef\u001b[0m \u001b[0m__call__\u001b[0m\u001b[0;34m(\u001b[0m\u001b[0mself\u001b[0m\u001b[0;34m,\u001b[0m \u001b[0;34m*\u001b[0m\u001b[0margs\u001b[0m\u001b[0;34m,\u001b[0m \u001b[0;34m**\u001b[0m\u001b[0mkwargs\u001b[0m\u001b[0;34m)\u001b[0m\u001b[0;34m:\u001b[0m\u001b[0;34m\u001b[0m\u001b[0;34m\u001b[0m\u001b[0m\n\u001b[0;32m--> 355\u001b[0;31m         \u001b[0;32mreturn\u001b[0m \u001b[0mself\u001b[0m\u001b[0;34m.\u001b[0m\u001b[0mfunc\u001b[0m\u001b[0;34m(\u001b[0m\u001b[0;34m*\u001b[0m\u001b[0margs\u001b[0m\u001b[0;34m,\u001b[0m \u001b[0;34m**\u001b[0m\u001b[0mkwargs\u001b[0m\u001b[0;34m)\u001b[0m\u001b[0;34m\u001b[0m\u001b[0;34m\u001b[0m\u001b[0m\n\u001b[0m\u001b[1;32m    356\u001b[0m \u001b[0;34m\u001b[0m\u001b[0m\n\u001b[1;32m    357\u001b[0m     \u001b[0;32mdef\u001b[0m \u001b[0mcall_and_shelve\u001b[0m\u001b[0;34m(\u001b[0m\u001b[0mself\u001b[0m\u001b[0;34m,\u001b[0m \u001b[0;34m*\u001b[0m\u001b[0margs\u001b[0m\u001b[0;34m,\u001b[0m \u001b[0;34m**\u001b[0m\u001b[0mkwargs\u001b[0m\u001b[0;34m)\u001b[0m\u001b[0;34m:\u001b[0m\u001b[0;34m\u001b[0m\u001b[0;34m\u001b[0m\u001b[0m\n",
      "\u001b[0;32m/opt/anaconda3/lib/python3.7/site-packages/sklearn/utils/validation.py\u001b[0m in \u001b[0;36minner_f\u001b[0;34m(*args, **kwargs)\u001b[0m\n\u001b[1;32m     70\u001b[0m                           FutureWarning)\n\u001b[1;32m     71\u001b[0m         \u001b[0mkwargs\u001b[0m\u001b[0;34m.\u001b[0m\u001b[0mupdate\u001b[0m\u001b[0;34m(\u001b[0m\u001b[0;34m{\u001b[0m\u001b[0mk\u001b[0m\u001b[0;34m:\u001b[0m \u001b[0marg\u001b[0m \u001b[0;32mfor\u001b[0m \u001b[0mk\u001b[0m\u001b[0;34m,\u001b[0m \u001b[0marg\u001b[0m \u001b[0;32min\u001b[0m \u001b[0mzip\u001b[0m\u001b[0;34m(\u001b[0m\u001b[0msig\u001b[0m\u001b[0;34m.\u001b[0m\u001b[0mparameters\u001b[0m\u001b[0;34m,\u001b[0m \u001b[0margs\u001b[0m\u001b[0;34m)\u001b[0m\u001b[0;34m}\u001b[0m\u001b[0;34m)\u001b[0m\u001b[0;34m\u001b[0m\u001b[0;34m\u001b[0m\u001b[0m\n\u001b[0;32m---> 72\u001b[0;31m         \u001b[0;32mreturn\u001b[0m \u001b[0mf\u001b[0m\u001b[0;34m(\u001b[0m\u001b[0;34m**\u001b[0m\u001b[0mkwargs\u001b[0m\u001b[0;34m)\u001b[0m\u001b[0;34m\u001b[0m\u001b[0;34m\u001b[0m\u001b[0m\n\u001b[0m\u001b[1;32m     73\u001b[0m     \u001b[0;32mreturn\u001b[0m \u001b[0minner_f\u001b[0m\u001b[0;34m\u001b[0m\u001b[0;34m\u001b[0m\u001b[0m\n\u001b[1;32m     74\u001b[0m \u001b[0;34m\u001b[0m\u001b[0m\n",
      "\u001b[0;32m/opt/anaconda3/lib/python3.7/site-packages/sklearn/cluster/_agglomerative.py\u001b[0m in \u001b[0;36mward_tree\u001b[0;34m(X, connectivity, n_clusters, return_distance)\u001b[0m\n\u001b[1;32m    234\u001b[0m                           stacklevel=2)\n\u001b[1;32m    235\u001b[0m         \u001b[0mX\u001b[0m \u001b[0;34m=\u001b[0m \u001b[0mnp\u001b[0m\u001b[0;34m.\u001b[0m\u001b[0mrequire\u001b[0m\u001b[0;34m(\u001b[0m\u001b[0mX\u001b[0m\u001b[0;34m,\u001b[0m \u001b[0mrequirements\u001b[0m\u001b[0;34m=\u001b[0m\u001b[0;34m\"W\"\u001b[0m\u001b[0;34m)\u001b[0m\u001b[0;34m\u001b[0m\u001b[0;34m\u001b[0m\u001b[0m\n\u001b[0;32m--> 236\u001b[0;31m         \u001b[0mout\u001b[0m \u001b[0;34m=\u001b[0m \u001b[0mhierarchy\u001b[0m\u001b[0;34m.\u001b[0m\u001b[0mward\u001b[0m\u001b[0;34m(\u001b[0m\u001b[0mX\u001b[0m\u001b[0;34m)\u001b[0m\u001b[0;34m\u001b[0m\u001b[0;34m\u001b[0m\u001b[0m\n\u001b[0m\u001b[1;32m    237\u001b[0m         \u001b[0mchildren_\u001b[0m \u001b[0;34m=\u001b[0m \u001b[0mout\u001b[0m\u001b[0;34m[\u001b[0m\u001b[0;34m:\u001b[0m\u001b[0;34m,\u001b[0m \u001b[0;34m:\u001b[0m\u001b[0;36m2\u001b[0m\u001b[0;34m]\u001b[0m\u001b[0;34m.\u001b[0m\u001b[0mastype\u001b[0m\u001b[0;34m(\u001b[0m\u001b[0mnp\u001b[0m\u001b[0;34m.\u001b[0m\u001b[0mintp\u001b[0m\u001b[0;34m)\u001b[0m\u001b[0;34m\u001b[0m\u001b[0;34m\u001b[0m\u001b[0m\n\u001b[1;32m    238\u001b[0m \u001b[0;34m\u001b[0m\u001b[0m\n",
      "\u001b[0;32m/opt/anaconda3/lib/python3.7/site-packages/scipy/cluster/hierarchy.py\u001b[0m in \u001b[0;36mward\u001b[0;34m(y)\u001b[0m\n\u001b[1;32m    828\u001b[0m \u001b[0;34m\u001b[0m\u001b[0m\n\u001b[1;32m    829\u001b[0m     \"\"\"\n\u001b[0;32m--> 830\u001b[0;31m     \u001b[0;32mreturn\u001b[0m \u001b[0mlinkage\u001b[0m\u001b[0;34m(\u001b[0m\u001b[0my\u001b[0m\u001b[0;34m,\u001b[0m \u001b[0mmethod\u001b[0m\u001b[0;34m=\u001b[0m\u001b[0;34m'ward'\u001b[0m\u001b[0;34m,\u001b[0m \u001b[0mmetric\u001b[0m\u001b[0;34m=\u001b[0m\u001b[0;34m'euclidean'\u001b[0m\u001b[0;34m)\u001b[0m\u001b[0;34m\u001b[0m\u001b[0;34m\u001b[0m\u001b[0m\n\u001b[0m\u001b[1;32m    831\u001b[0m \u001b[0;34m\u001b[0m\u001b[0m\n\u001b[1;32m    832\u001b[0m \u001b[0;34m\u001b[0m\u001b[0m\n",
      "\u001b[0;32m/opt/anaconda3/lib/python3.7/site-packages/scipy/cluster/hierarchy.py\u001b[0m in \u001b[0;36mlinkage\u001b[0;34m(y, method, metric, optimal_ordering)\u001b[0m\n\u001b[1;32m   1068\u001b[0m         \u001b[0mresult\u001b[0m \u001b[0;34m=\u001b[0m \u001b[0m_hierarchy\u001b[0m\u001b[0;34m.\u001b[0m\u001b[0mmst_single_linkage\u001b[0m\u001b[0;34m(\u001b[0m\u001b[0my\u001b[0m\u001b[0;34m,\u001b[0m \u001b[0mn\u001b[0m\u001b[0;34m)\u001b[0m\u001b[0;34m\u001b[0m\u001b[0;34m\u001b[0m\u001b[0m\n\u001b[1;32m   1069\u001b[0m     \u001b[0;32melif\u001b[0m \u001b[0mmethod\u001b[0m \u001b[0;32min\u001b[0m \u001b[0;34m[\u001b[0m\u001b[0;34m'complete'\u001b[0m\u001b[0;34m,\u001b[0m \u001b[0;34m'average'\u001b[0m\u001b[0;34m,\u001b[0m \u001b[0;34m'weighted'\u001b[0m\u001b[0;34m,\u001b[0m \u001b[0;34m'ward'\u001b[0m\u001b[0;34m]\u001b[0m\u001b[0;34m:\u001b[0m\u001b[0;34m\u001b[0m\u001b[0;34m\u001b[0m\u001b[0m\n\u001b[0;32m-> 1070\u001b[0;31m         \u001b[0mresult\u001b[0m \u001b[0;34m=\u001b[0m \u001b[0m_hierarchy\u001b[0m\u001b[0;34m.\u001b[0m\u001b[0mnn_chain\u001b[0m\u001b[0;34m(\u001b[0m\u001b[0my\u001b[0m\u001b[0;34m,\u001b[0m \u001b[0mn\u001b[0m\u001b[0;34m,\u001b[0m \u001b[0mmethod_code\u001b[0m\u001b[0;34m)\u001b[0m\u001b[0;34m\u001b[0m\u001b[0;34m\u001b[0m\u001b[0m\n\u001b[0m\u001b[1;32m   1071\u001b[0m     \u001b[0;32melse\u001b[0m\u001b[0;34m:\u001b[0m\u001b[0;34m\u001b[0m\u001b[0;34m\u001b[0m\u001b[0m\n\u001b[1;32m   1072\u001b[0m         \u001b[0mresult\u001b[0m \u001b[0;34m=\u001b[0m \u001b[0m_hierarchy\u001b[0m\u001b[0;34m.\u001b[0m\u001b[0mfast_linkage\u001b[0m\u001b[0;34m(\u001b[0m\u001b[0my\u001b[0m\u001b[0;34m,\u001b[0m \u001b[0mn\u001b[0m\u001b[0;34m,\u001b[0m \u001b[0mmethod_code\u001b[0m\u001b[0;34m)\u001b[0m\u001b[0;34m\u001b[0m\u001b[0;34m\u001b[0m\u001b[0m\n",
      "\u001b[0;32m_hierarchy.pyx\u001b[0m in \u001b[0;36mscipy.cluster._hierarchy.nn_chain\u001b[0;34m()\u001b[0m\n",
      "\u001b[0;32m/opt/anaconda3/lib/python3.7/site-packages/numpy/core/numeric.py\u001b[0m in \u001b[0;36mones\u001b[0;34m(shape, dtype, order)\u001b[0m\n\u001b[1;32m    164\u001b[0m \u001b[0;34m\u001b[0m\u001b[0m\n\u001b[1;32m    165\u001b[0m \u001b[0;34m\u001b[0m\u001b[0m\n\u001b[0;32m--> 166\u001b[0;31m \u001b[0;34m@\u001b[0m\u001b[0mset_module\u001b[0m\u001b[0;34m(\u001b[0m\u001b[0;34m'numpy'\u001b[0m\u001b[0;34m)\u001b[0m\u001b[0;34m\u001b[0m\u001b[0;34m\u001b[0m\u001b[0m\n\u001b[0m\u001b[1;32m    167\u001b[0m \u001b[0;32mdef\u001b[0m \u001b[0mones\u001b[0m\u001b[0;34m(\u001b[0m\u001b[0mshape\u001b[0m\u001b[0;34m,\u001b[0m \u001b[0mdtype\u001b[0m\u001b[0;34m=\u001b[0m\u001b[0;32mNone\u001b[0m\u001b[0;34m,\u001b[0m \u001b[0morder\u001b[0m\u001b[0;34m=\u001b[0m\u001b[0;34m'C'\u001b[0m\u001b[0;34m)\u001b[0m\u001b[0;34m:\u001b[0m\u001b[0;34m\u001b[0m\u001b[0;34m\u001b[0m\u001b[0m\n\u001b[1;32m    168\u001b[0m     \"\"\"\n",
      "\u001b[0;31mKeyboardInterrupt\u001b[0m: "
     ]
    }
   ],
   "source": [
    "s_score_train = []\n",
    "s_score_valid = []\n",
    "for k in range(2,11):\n",
    "    algo = AgglomerativeClustering(n_clusters=k)\n",
    "    clusters_train = algo.fit_predict(train_scaled)\n",
    "    clusters_valid = algo.fit_predict(valid_scaled)\n",
    "    s_score_train.append(silhouette_score(train_scaled, clusters_train))\n",
    "    s_score_valid.append(silhouette_score(valid_scaled, clusters_valid))\n"
   ]
  },
  {
   "cell_type": "code",
   "execution_count": null,
   "metadata": {
    "ExecuteTime": {
     "end_time": "2020-12-03T13:45:09.240151Z",
     "start_time": "2020-12-03T03:26:03.632Z"
    }
   },
   "outputs": [],
   "source": [
    "#plt.plot(range(2,11), s_score_train, label=\"train silhouette score\")\n",
    "plt.plot(range(2,11), s_score_valid, label=\"validation silhouette score\")\n",
    "plt.ylabel(\"silhouette_score\")\n",
    "plt.xlabel(\"n_clusters\")\n",
    "plt.legend()"
   ]
  },
  {
   "cell_type": "code",
   "execution_count": null,
   "metadata": {},
   "outputs": [],
   "source": []
  },
  {
   "cell_type": "markdown",
   "metadata": {},
   "source": [
    "#### Find characteristic of each group\n",
    "Plot number of clusters against silhouette score and we can see that k-Means get its highest score when we have 2 clusters. Added a 'cluster' column to the original dataset"
   ]
  },
  {
   "cell_type": "code",
   "execution_count": 74,
   "metadata": {
    "ExecuteTime": {
     "end_time": "2020-12-03T03:20:42.564381Z",
     "start_time": "2020-12-03T03:20:42.544449Z"
    }
   },
   "outputs": [
    {
     "name": "stderr",
     "output_type": "stream",
     "text": [
      "/opt/anaconda3/lib/python3.7/site-packages/ipykernel_launcher.py:3: SettingWithCopyWarning: \n",
      "A value is trying to be set on a copy of a slice from a DataFrame.\n",
      "Try using .loc[row_indexer,col_indexer] = value instead\n",
      "\n",
      "See the caveats in the documentation: http://pandas.pydata.org/pandas-docs/stable/user_guide/indexing.html#returning-a-view-versus-a-copy\n",
      "  This is separate from the ipykernel package so we can avoid doing imports until\n"
     ]
    },
    {
     "data": {
      "text/html": [
       "<div>\n",
       "<style scoped>\n",
       "    .dataframe tbody tr th:only-of-type {\n",
       "        vertical-align: middle;\n",
       "    }\n",
       "\n",
       "    .dataframe tbody tr th {\n",
       "        vertical-align: top;\n",
       "    }\n",
       "\n",
       "    .dataframe thead th {\n",
       "        text-align: right;\n",
       "    }\n",
       "</style>\n",
       "<table border=\"1\" class=\"dataframe\">\n",
       "  <thead>\n",
       "    <tr style=\"text-align: right;\">\n",
       "      <th></th>\n",
       "      <th>age</th>\n",
       "      <th>Language_EN</th>\n",
       "      <th>Language_ZH</th>\n",
       "      <th>Country_EUR</th>\n",
       "      <th>moweb</th>\n",
       "      <th>ios</th>\n",
       "      <th>Married</th>\n",
       "      <th>Children</th>\n",
       "      <th>datediff</th>\n",
       "      <th>gender_M</th>\n",
       "      <th>cluster</th>\n",
       "    </tr>\n",
       "  </thead>\n",
       "  <tbody>\n",
       "    <tr>\n",
       "      <td>50698</td>\n",
       "      <td>32</td>\n",
       "      <td>1</td>\n",
       "      <td>0</td>\n",
       "      <td>0</td>\n",
       "      <td>1</td>\n",
       "      <td>0</td>\n",
       "      <td>1</td>\n",
       "      <td>3</td>\n",
       "      <td>18</td>\n",
       "      <td>1</td>\n",
       "      <td>0</td>\n",
       "    </tr>\n",
       "    <tr>\n",
       "      <td>61433</td>\n",
       "      <td>29</td>\n",
       "      <td>1</td>\n",
       "      <td>0</td>\n",
       "      <td>0</td>\n",
       "      <td>0</td>\n",
       "      <td>0</td>\n",
       "      <td>1</td>\n",
       "      <td>1</td>\n",
       "      <td>16</td>\n",
       "      <td>1</td>\n",
       "      <td>0</td>\n",
       "    </tr>\n",
       "    <tr>\n",
       "      <td>8286</td>\n",
       "      <td>33</td>\n",
       "      <td>1</td>\n",
       "      <td>0</td>\n",
       "      <td>1</td>\n",
       "      <td>0</td>\n",
       "      <td>0</td>\n",
       "      <td>1</td>\n",
       "      <td>1</td>\n",
       "      <td>215</td>\n",
       "      <td>0</td>\n",
       "      <td>0</td>\n",
       "    </tr>\n",
       "    <tr>\n",
       "      <td>21401</td>\n",
       "      <td>59</td>\n",
       "      <td>1</td>\n",
       "      <td>0</td>\n",
       "      <td>0</td>\n",
       "      <td>0</td>\n",
       "      <td>0</td>\n",
       "      <td>1</td>\n",
       "      <td>2</td>\n",
       "      <td>14</td>\n",
       "      <td>0</td>\n",
       "      <td>0</td>\n",
       "    </tr>\n",
       "    <tr>\n",
       "      <td>15091</td>\n",
       "      <td>44</td>\n",
       "      <td>1</td>\n",
       "      <td>0</td>\n",
       "      <td>0</td>\n",
       "      <td>1</td>\n",
       "      <td>0</td>\n",
       "      <td>0</td>\n",
       "      <td>2</td>\n",
       "      <td>259</td>\n",
       "      <td>0</td>\n",
       "      <td>0</td>\n",
       "    </tr>\n",
       "  </tbody>\n",
       "</table>\n",
       "</div>"
      ],
      "text/plain": [
       "       age  Language_EN  Language_ZH  Country_EUR  moweb  ios  Married  \\\n",
       "50698   32            1            0            0      1    0        1   \n",
       "61433   29            1            0            0      0    0        1   \n",
       "8286    33            1            0            1      0    0        1   \n",
       "21401   59            1            0            0      0    0        1   \n",
       "15091   44            1            0            0      1    0        0   \n",
       "\n",
       "       Children  datediff  gender_M  cluster  \n",
       "50698         3        18         1        0  \n",
       "61433         1        16         1        0  \n",
       "8286          1       215         0        0  \n",
       "21401         2        14         0        0  \n",
       "15091         2       259         0        0  "
      ]
     },
     "execution_count": 74,
     "metadata": {},
     "output_type": "execute_result"
    }
   ],
   "source": [
    "train['cluster'] = clusters_train\n",
    "valid['cluster'] = clusters_valid\n",
    "test['cluster'] = clusters_test\n",
    "airbnb_clustered = pd.concat([train, valid, test])\n",
    "airbnb_clustered.head()"
   ]
  },
  {
   "cell_type": "code",
   "execution_count": 75,
   "metadata": {
    "ExecuteTime": {
     "end_time": "2020-12-03T03:20:42.616976Z",
     "start_time": "2020-12-03T03:20:42.613182Z"
    }
   },
   "outputs": [
    {
     "data": {
      "text/plain": [
       "401"
      ]
     },
     "execution_count": 75,
     "metadata": {},
     "output_type": "execute_result"
    }
   ],
   "source": [
    "np.sum(airbnb_clustered['cluster'])"
   ]
  },
  {
   "cell_type": "code",
   "execution_count": 76,
   "metadata": {
    "ExecuteTime": {
     "end_time": "2020-12-03T03:20:44.937514Z",
     "start_time": "2020-12-03T03:20:42.659884Z"
    }
   },
   "outputs": [
    {
     "data": {
      "image/png": "[encoded data removed]",
      "text/plain": [
       "<Figure size 864x720 with 12 Axes>"
      ]
     },
     "metadata": {
      "needs_background": "light"
     },
     "output_type": "display_data"
    }
   ],
   "source": [
    "fig, axes = plt.subplots(4, 3, figsize=(12, 10)) \n",
    "class_0 = airbnb_clustered[airbnb_clustered['cluster'] == 0] \n",
    "class_1 = airbnb_clustered[airbnb_clustered['cluster'] == 1]\n",
    "ax = axes.ravel()\n",
    "\n",
    "for i in range(10):\n",
    "    _, bins = np.histogram(airbnb_clustered.iloc[:, i], bins=30) \n",
    "    ax[i].hist(class_0.iloc[:, i], bins=bins, alpha=.5,density=True) \n",
    "    ax[i].hist(class_1.iloc[:, i], bins=bins, alpha=.5,density=True) \n",
    "    ax[i].set_title(airbnb_clustered.columns[i])\n",
    "    ax[i].set_yticks(())\n",
    "ax[0].set_xlabel(\"Feature magnitude\") \n",
    "ax[0].set_ylabel(\"Probability\") \n",
    "ax[0].legend([\"class_0\", \"class_1\"], loc=\"best\") \n",
    "fig.tight_layout()"
   ]
  },
  {
   "cell_type": "code",
   "execution_count": null,
   "metadata": {},
   "outputs": [],
   "source": []
  },
  {
   "cell_type": "code",
   "execution_count": null,
   "metadata": {},
   "outputs": [],
   "source": []
  }
 ],
 "metadata": {
  "hide_input": false,
  "kernelspec": {
   "display_name": "Python 3",
   "language": "python",
   "name": "python3"
  },
  "language_info": {
   "codemirror_mode": {
    "name": "ipython",
    "version": 3
   },
   "file_extension": ".py",
   "mimetype": "text/x-python",
   "name": "python",
   "nbconvert_exporter": "python",
   "pygments_lexer": "ipython3",
   "version": "3.7.4"
  },
  "toc": {
   "base_numbering": 1,
   "nav_menu": {},
   "number_sections": true,
   "sideBar": true,
   "skip_h1_title": false,
   "title_cell": "Table of Contents",
   "title_sidebar": "Contents",
   "toc_cell": false,
   "toc_position": {},
   "toc_section_display": true,
   "toc_window_display": false
  },
  "varInspector": {
   "cols": {
    "lenName": 16,
    "lenType": 16,
    "lenVar": 40
   },
   "kernels_config": {
    "python": {
     "delete_cmd_postfix": "",
     "delete_cmd_prefix": "del ",
     "library": "var_list.py",
     "varRefreshCmd": "print(var_dic_list())"
    },
    "r": {
     "delete_cmd_postfix": ") ",
     "delete_cmd_prefix": "rm(",
     "library": "var_list.r",
     "varRefreshCmd": "cat(var_dic_list()) "
    }
   },
   "types_to_exclude": [
    "module",
    "function",
    "builtin_function_or_method",
    "instance",
    "_Feature"
   ],
   "window_display": false
  }
 },
 "nbformat": 4,
 "nbformat_minor": 2
}
